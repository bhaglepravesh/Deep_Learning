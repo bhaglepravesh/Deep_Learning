{
 "cells": [
  {
   "cell_type": "markdown",
   "id": "2beae21e",
   "metadata": {},
   "source": [
    "#### instal Model dependencies "
   ]
  },
  {
   "cell_type": "code",
   "execution_count": 2,
   "id": "fc810ba9",
   "metadata": {},
   "outputs": [
    {
     "name": "stdout",
     "output_type": "stream",
     "text": [
      "Collecting pyttsx3\n",
      "  Downloading pyttsx3-2.90-py3-none-any.whl (39 kB)\n",
      "Requirement already satisfied: pywin32 in c:\\users\\hp\\anaconda3\\lib\\site-packages (from pyttsx3) (302)\n",
      "Requirement already satisfied: comtypes in c:\\users\\hp\\anaconda3\\lib\\site-packages (from pyttsx3) (1.1.10)\n",
      "Collecting pypiwin32\n",
      "  Downloading pypiwin32-223-py3-none-any.whl (1.7 kB)\n",
      "Installing collected packages: pypiwin32, pyttsx3\n",
      "Successfully installed pypiwin32-223 pyttsx3-2.90\n"
     ]
    }
   ],
   "source": [
    "# !pip install ibm_watson\n",
    "!pip install pyttsx3"
   ]
  },
  {
   "cell_type": "code",
   "execution_count": 12,
   "id": "51e6f447",
   "metadata": {},
   "outputs": [],
   "source": [
    "import pyttsx3\n",
    "\n",
    "player=pyttsx3.init()\n",
    "\n",
    "player.say(\" hey Everybody , How are you\")\n",
    "player.runAndWait()"
   ]
  },
  {
   "cell_type": "code",
   "execution_count": 13,
   "id": "43148f1f",
   "metadata": {},
   "outputs": [
    {
     "name": "stdout",
     "output_type": "stream",
     "text": [
      "hello everyone\n"
     ]
    }
   ],
   "source": [
    "import pyttsx3\n",
    "\n",
    "player=pyttsx3.init()\n",
    "\n",
    "message=\"hello everyone\"\n",
    "voices=player.getProperty(\"voices\")\n",
    "player.setProperty('voice',voices[1].id)\n",
    "player.say(message)\n",
    "\n",
    "player.runAndWait()\n",
    "# print(message) "
   ]
  },
  {
   "cell_type": "code",
   "execution_count": null,
   "id": "79fc3123",
   "metadata": {},
   "outputs": [],
   "source": []
  }
 ],
 "metadata": {
  "kernelspec": {
   "display_name": "Python 3 (ipykernel)",
   "language": "python",
   "name": "python3"
  },
  "language_info": {
   "codemirror_mode": {
    "name": "ipython",
    "version": 3
   },
   "file_extension": ".py",
   "mimetype": "text/x-python",
   "name": "python",
   "nbconvert_exporter": "python",
   "pygments_lexer": "ipython3",
   "version": "3.9.12"
  }
 },
 "nbformat": 4,
 "nbformat_minor": 5
}
